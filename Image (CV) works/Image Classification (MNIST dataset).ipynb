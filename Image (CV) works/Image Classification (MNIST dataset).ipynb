{
  "nbformat": 4,
  "nbformat_minor": 0,
  "metadata": {
    "colab": {
      "provenance": []
    },
    "kernelspec": {
      "name": "python3",
      "display_name": "Python 3"
    },
    "language_info": {
      "name": "python"
    },
    "accelerator": "GPU",
    "gpuClass": "standard",
    "widgets": {
      "application/vnd.jupyter.widget-state+json": {
        "1d29b210bae14766bdf4e5d531aa4388": {
          "model_module": "@jupyter-widgets/controls",
          "model_name": "HBoxModel",
          "model_module_version": "1.5.0",
          "state": {
            "_dom_classes": [],
            "_model_module": "@jupyter-widgets/controls",
            "_model_module_version": "1.5.0",
            "_model_name": "HBoxModel",
            "_view_count": null,
            "_view_module": "@jupyter-widgets/controls",
            "_view_module_version": "1.5.0",
            "_view_name": "HBoxView",
            "box_style": "",
            "children": [
              "IPY_MODEL_7a31bf1599cd448889b04be81354f68f",
              "IPY_MODEL_6241827b2dc34090bc90284cd3423d8a",
              "IPY_MODEL_28308e0d191a4fb1af8150a42d3dd77d"
            ],
            "layout": "IPY_MODEL_01579b4bc6c046898d0a8dd3884abda3"
          }
        },
        "7a31bf1599cd448889b04be81354f68f": {
          "model_module": "@jupyter-widgets/controls",
          "model_name": "HTMLModel",
          "model_module_version": "1.5.0",
          "state": {
            "_dom_classes": [],
            "_model_module": "@jupyter-widgets/controls",
            "_model_module_version": "1.5.0",
            "_model_name": "HTMLModel",
            "_view_count": null,
            "_view_module": "@jupyter-widgets/controls",
            "_view_module_version": "1.5.0",
            "_view_name": "HTMLView",
            "description": "",
            "description_tooltip": null,
            "layout": "IPY_MODEL_e884ea57d3c8475381cca6a3a29dde1a",
            "placeholder": "​",
            "style": "IPY_MODEL_e7d6bea6aaae466e9d1d057a19afd3b7",
            "value": "Dl Completed...: 100%"
          }
        },
        "6241827b2dc34090bc90284cd3423d8a": {
          "model_module": "@jupyter-widgets/controls",
          "model_name": "FloatProgressModel",
          "model_module_version": "1.5.0",
          "state": {
            "_dom_classes": [],
            "_model_module": "@jupyter-widgets/controls",
            "_model_module_version": "1.5.0",
            "_model_name": "FloatProgressModel",
            "_view_count": null,
            "_view_module": "@jupyter-widgets/controls",
            "_view_module_version": "1.5.0",
            "_view_name": "ProgressView",
            "bar_style": "success",
            "description": "",
            "description_tooltip": null,
            "layout": "IPY_MODEL_88a8b22238cf4d97917844f2cf25a40d",
            "max": 4,
            "min": 0,
            "orientation": "horizontal",
            "style": "IPY_MODEL_2c07fd02d7274a71a0f8772a48ae2e62",
            "value": 4
          }
        },
        "28308e0d191a4fb1af8150a42d3dd77d": {
          "model_module": "@jupyter-widgets/controls",
          "model_name": "HTMLModel",
          "model_module_version": "1.5.0",
          "state": {
            "_dom_classes": [],
            "_model_module": "@jupyter-widgets/controls",
            "_model_module_version": "1.5.0",
            "_model_name": "HTMLModel",
            "_view_count": null,
            "_view_module": "@jupyter-widgets/controls",
            "_view_module_version": "1.5.0",
            "_view_name": "HTMLView",
            "description": "",
            "description_tooltip": null,
            "layout": "IPY_MODEL_0aab38ee50334248bf9aa280fc129a1e",
            "placeholder": "​",
            "style": "IPY_MODEL_54fcc608add846e3b639c3eb19811102",
            "value": " 4/4 [00:00&lt;00:00,  7.19 file/s]"
          }
        },
        "01579b4bc6c046898d0a8dd3884abda3": {
          "model_module": "@jupyter-widgets/base",
          "model_name": "LayoutModel",
          "model_module_version": "1.2.0",
          "state": {
            "_model_module": "@jupyter-widgets/base",
            "_model_module_version": "1.2.0",
            "_model_name": "LayoutModel",
            "_view_count": null,
            "_view_module": "@jupyter-widgets/base",
            "_view_module_version": "1.2.0",
            "_view_name": "LayoutView",
            "align_content": null,
            "align_items": null,
            "align_self": null,
            "border": null,
            "bottom": null,
            "display": null,
            "flex": null,
            "flex_flow": null,
            "grid_area": null,
            "grid_auto_columns": null,
            "grid_auto_flow": null,
            "grid_auto_rows": null,
            "grid_column": null,
            "grid_gap": null,
            "grid_row": null,
            "grid_template_areas": null,
            "grid_template_columns": null,
            "grid_template_rows": null,
            "height": null,
            "justify_content": null,
            "justify_items": null,
            "left": null,
            "margin": null,
            "max_height": null,
            "max_width": null,
            "min_height": null,
            "min_width": null,
            "object_fit": null,
            "object_position": null,
            "order": null,
            "overflow": null,
            "overflow_x": null,
            "overflow_y": null,
            "padding": null,
            "right": null,
            "top": null,
            "visibility": null,
            "width": null
          }
        },
        "e884ea57d3c8475381cca6a3a29dde1a": {
          "model_module": "@jupyter-widgets/base",
          "model_name": "LayoutModel",
          "model_module_version": "1.2.0",
          "state": {
            "_model_module": "@jupyter-widgets/base",
            "_model_module_version": "1.2.0",
            "_model_name": "LayoutModel",
            "_view_count": null,
            "_view_module": "@jupyter-widgets/base",
            "_view_module_version": "1.2.0",
            "_view_name": "LayoutView",
            "align_content": null,
            "align_items": null,
            "align_self": null,
            "border": null,
            "bottom": null,
            "display": null,
            "flex": null,
            "flex_flow": null,
            "grid_area": null,
            "grid_auto_columns": null,
            "grid_auto_flow": null,
            "grid_auto_rows": null,
            "grid_column": null,
            "grid_gap": null,
            "grid_row": null,
            "grid_template_areas": null,
            "grid_template_columns": null,
            "grid_template_rows": null,
            "height": null,
            "justify_content": null,
            "justify_items": null,
            "left": null,
            "margin": null,
            "max_height": null,
            "max_width": null,
            "min_height": null,
            "min_width": null,
            "object_fit": null,
            "object_position": null,
            "order": null,
            "overflow": null,
            "overflow_x": null,
            "overflow_y": null,
            "padding": null,
            "right": null,
            "top": null,
            "visibility": null,
            "width": null
          }
        },
        "e7d6bea6aaae466e9d1d057a19afd3b7": {
          "model_module": "@jupyter-widgets/controls",
          "model_name": "DescriptionStyleModel",
          "model_module_version": "1.5.0",
          "state": {
            "_model_module": "@jupyter-widgets/controls",
            "_model_module_version": "1.5.0",
            "_model_name": "DescriptionStyleModel",
            "_view_count": null,
            "_view_module": "@jupyter-widgets/base",
            "_view_module_version": "1.2.0",
            "_view_name": "StyleView",
            "description_width": ""
          }
        },
        "88a8b22238cf4d97917844f2cf25a40d": {
          "model_module": "@jupyter-widgets/base",
          "model_name": "LayoutModel",
          "model_module_version": "1.2.0",
          "state": {
            "_model_module": "@jupyter-widgets/base",
            "_model_module_version": "1.2.0",
            "_model_name": "LayoutModel",
            "_view_count": null,
            "_view_module": "@jupyter-widgets/base",
            "_view_module_version": "1.2.0",
            "_view_name": "LayoutView",
            "align_content": null,
            "align_items": null,
            "align_self": null,
            "border": null,
            "bottom": null,
            "display": null,
            "flex": null,
            "flex_flow": null,
            "grid_area": null,
            "grid_auto_columns": null,
            "grid_auto_flow": null,
            "grid_auto_rows": null,
            "grid_column": null,
            "grid_gap": null,
            "grid_row": null,
            "grid_template_areas": null,
            "grid_template_columns": null,
            "grid_template_rows": null,
            "height": null,
            "justify_content": null,
            "justify_items": null,
            "left": null,
            "margin": null,
            "max_height": null,
            "max_width": null,
            "min_height": null,
            "min_width": null,
            "object_fit": null,
            "object_position": null,
            "order": null,
            "overflow": null,
            "overflow_x": null,
            "overflow_y": null,
            "padding": null,
            "right": null,
            "top": null,
            "visibility": null,
            "width": null
          }
        },
        "2c07fd02d7274a71a0f8772a48ae2e62": {
          "model_module": "@jupyter-widgets/controls",
          "model_name": "ProgressStyleModel",
          "model_module_version": "1.5.0",
          "state": {
            "_model_module": "@jupyter-widgets/controls",
            "_model_module_version": "1.5.0",
            "_model_name": "ProgressStyleModel",
            "_view_count": null,
            "_view_module": "@jupyter-widgets/base",
            "_view_module_version": "1.2.0",
            "_view_name": "StyleView",
            "bar_color": null,
            "description_width": ""
          }
        },
        "0aab38ee50334248bf9aa280fc129a1e": {
          "model_module": "@jupyter-widgets/base",
          "model_name": "LayoutModel",
          "model_module_version": "1.2.0",
          "state": {
            "_model_module": "@jupyter-widgets/base",
            "_model_module_version": "1.2.0",
            "_model_name": "LayoutModel",
            "_view_count": null,
            "_view_module": "@jupyter-widgets/base",
            "_view_module_version": "1.2.0",
            "_view_name": "LayoutView",
            "align_content": null,
            "align_items": null,
            "align_self": null,
            "border": null,
            "bottom": null,
            "display": null,
            "flex": null,
            "flex_flow": null,
            "grid_area": null,
            "grid_auto_columns": null,
            "grid_auto_flow": null,
            "grid_auto_rows": null,
            "grid_column": null,
            "grid_gap": null,
            "grid_row": null,
            "grid_template_areas": null,
            "grid_template_columns": null,
            "grid_template_rows": null,
            "height": null,
            "justify_content": null,
            "justify_items": null,
            "left": null,
            "margin": null,
            "max_height": null,
            "max_width": null,
            "min_height": null,
            "min_width": null,
            "object_fit": null,
            "object_position": null,
            "order": null,
            "overflow": null,
            "overflow_x": null,
            "overflow_y": null,
            "padding": null,
            "right": null,
            "top": null,
            "visibility": null,
            "width": null
          }
        },
        "54fcc608add846e3b639c3eb19811102": {
          "model_module": "@jupyter-widgets/controls",
          "model_name": "DescriptionStyleModel",
          "model_module_version": "1.5.0",
          "state": {
            "_model_module": "@jupyter-widgets/controls",
            "_model_module_version": "1.5.0",
            "_model_name": "DescriptionStyleModel",
            "_view_count": null,
            "_view_module": "@jupyter-widgets/base",
            "_view_module_version": "1.2.0",
            "_view_name": "StyleView",
            "description_width": ""
          }
        }
      }
    }
  },
  "cells": [
    {
      "cell_type": "code",
      "execution_count": null,
      "metadata": {
        "id": "RggIcAQcK1qq"
      },
      "outputs": [],
      "source": [
        "# Importing the relevant packages\n",
        "import tensorflow as tf\n",
        "import tensorflow_datasets as tfds"
      ]
    },
    {
      "cell_type": "markdown",
      "source": [
        "# **Identify**"
      ],
      "metadata": {
        "id": "0YD-AV8IlBSd"
      }
    },
    {
      "cell_type": "code",
      "source": [
        "# Defining some constants/hyperparameters\n",
        "BUFFER_SIZE = 70_000 # for reshuffling\n",
        "BATCH_SIZE = 50\n",
        "NUM_EPOCHS = 50"
      ],
      "metadata": {
        "id": "Nr6M3PJ-hyJg"
      },
      "execution_count": null,
      "outputs": []
    },
    {
      "cell_type": "code",
      "source": [
        "# Downloading the MNIST dataset\n",
        "\n",
        "# When 'with_info' is set to True, tfds.load() returns two variables: \n",
        "# - the dataset (including the train and test sets) \n",
        "# - meta info regarding the dataset itself\n",
        "\n",
        "mnist_dataset, mnist_info = tfds.load(name='mnist', with_info=True, as_supervised=True)"
      ],
      "metadata": {
        "id": "ZJ_O2VgbMzvh",
        "colab": {
          "base_uri": "https://localhost:8080/",
          "height": 105,
          "referenced_widgets": [
            "1d29b210bae14766bdf4e5d531aa4388",
            "7a31bf1599cd448889b04be81354f68f",
            "6241827b2dc34090bc90284cd3423d8a",
            "28308e0d191a4fb1af8150a42d3dd77d",
            "01579b4bc6c046898d0a8dd3884abda3",
            "e884ea57d3c8475381cca6a3a29dde1a",
            "e7d6bea6aaae466e9d1d057a19afd3b7",
            "88a8b22238cf4d97917844f2cf25a40d",
            "2c07fd02d7274a71a0f8772a48ae2e62",
            "0aab38ee50334248bf9aa280fc129a1e",
            "54fcc608add846e3b639c3eb19811102"
          ]
        },
        "outputId": "d1b6679e-08ec-475d-8fd8-66b2705bb9a9"
      },
      "execution_count": null,
      "outputs": [
        {
          "output_type": "stream",
          "name": "stdout",
          "text": [
            "Downloading and preparing dataset 11.06 MiB (download: 11.06 MiB, generated: 21.00 MiB, total: 32.06 MiB) to ~/tensorflow_datasets/mnist/3.0.1...\n"
          ]
        },
        {
          "output_type": "display_data",
          "data": {
            "text/plain": [
              "Dl Completed...:   0%|          | 0/4 [00:00<?, ? file/s]"
            ],
            "application/vnd.jupyter.widget-view+json": {
              "version_major": 2,
              "version_minor": 0,
              "model_id": "1d29b210bae14766bdf4e5d531aa4388"
            }
          },
          "metadata": {}
        },
        {
          "output_type": "stream",
          "name": "stdout",
          "text": [
            "Dataset mnist downloaded and prepared to ~/tensorflow_datasets/mnist/3.0.1. Subsequent calls will reuse this data.\n"
          ]
        }
      ]
    },
    {
      "cell_type": "code",
      "source": [
        "# Extracting the train and test datasets\n",
        "mnist_train, mnist_test = mnist_dataset['train'], mnist_dataset['test']"
      ],
      "metadata": {
        "id": "0udOGYVWjeVM"
      },
      "execution_count": null,
      "outputs": []
    },
    {
      "cell_type": "code",
      "source": [
        "# Creating a function to scale our image data (it is recommended to scale the pixel values in the range [0,1] )\n",
        "def scale(image, label):\n",
        "    image = tf.cast(image, tf.float32)\n",
        "    image /= 255.\n",
        "\n",
        "    return image, label"
      ],
      "metadata": {
        "id": "VzAqufnzjeKT"
      },
      "execution_count": null,
      "outputs": []
    },
    {
      "cell_type": "code",
      "source": [
        "# Scaling the data\n",
        "train_and_validation_data = mnist_train.map(scale)\n",
        "test_data = mnist_test.map(scale)"
      ],
      "metadata": {
        "id": "L1ktF1Xxkd9A"
      },
      "execution_count": null,
      "outputs": []
    },
    {
      "cell_type": "code",
      "source": [
        "# Defining the size of the validation set\n",
        "num_validation_samples = 0.1 * mnist_info.splits['train'].num_examples\n",
        "num_validation_samples = tf.cast(num_validation_samples, tf.int64)"
      ],
      "metadata": {
        "id": "caEJVZpJkd5z"
      },
      "execution_count": null,
      "outputs": []
    },
    {
      "cell_type": "code",
      "source": [
        "# Defining the size of the test set\n",
        "num_test_samples = mnist_info.splits['test'].num_examples\n",
        "num_test_samples = tf.cast(num_test_samples, tf.int64)"
      ],
      "metadata": {
        "id": "ZpgewkO4kdow"
      },
      "execution_count": null,
      "outputs": []
    },
    {
      "cell_type": "code",
      "source": [
        "# Reshuffling the dataset\n",
        "train_and_validation_data = train_and_validation_data.shuffle(BUFFER_SIZE)"
      ],
      "metadata": {
        "id": "uw-ZKs7YkdTB"
      },
      "execution_count": null,
      "outputs": []
    },
    {
      "cell_type": "code",
      "source": [
        "# Splitting the dataset into training + validation\n",
        "train_data = train_and_validation_data.skip(num_validation_samples)\n",
        "validation_data = train_and_validation_data.take(num_validation_samples)"
      ],
      "metadata": {
        "id": "WKR9b0bKt2Bf"
      },
      "execution_count": null,
      "outputs": []
    },
    {
      "cell_type": "code",
      "source": [
        "# Batching the data\n",
        "# NOTE: For proper functioning of the model, we need to create one big batch for the validation and test sets\n",
        "train_data = train_data.batch(BATCH_SIZE)\n",
        "validation_data = validation_data.batch(num_validation_samples) \n",
        "test_data = test_data.batch(num_test_samples)"
      ],
      "metadata": {
        "id": "jMM7I9sgu_uh"
      },
      "execution_count": null,
      "outputs": []
    },
    {
      "cell_type": "markdown",
      "source": [
        "**Create a Model Train**"
      ],
      "metadata": {
        "id": "-RUxQWLDvN8j"
      }
    },
    {
      "cell_type": "code",
      "source": [
        "# Outlining the model/architecture of our CNN\n",
        "# CONV -> MAXPOOL -> CONV -> MAXPOOL -> FLATTEN -> DENSE\n",
        "model = tf.keras.Sequential([\n",
        "    tf.keras.layers.Conv2D(50, 5, activation='relu', input_shape=(28, 28, 1)),\n",
        "    tf.keras.layers.MaxPooling2D(pool_size=(2,2)), \n",
        "    # (2,2) is the default pool size so we could have just used MaxPooling2D() with no explicit arguments\n",
        "    tf.keras.layers.Conv2D(50, 3, activation='relu'),\n",
        "    tf.keras.layers.MaxPooling2D(pool_size=(2,2)), \n",
        "    tf.keras.layers.Flatten(),\n",
        "    tf.keras.layers.Dense(10) # You can apply softmax activation here, see below for comentary\n",
        "])"
      ],
      "metadata": {
        "id": "Iv8XBuQwvfII"
      },
      "execution_count": null,
      "outputs": []
    },
    {
      "cell_type": "code",
      "source": [
        "# A brief summary of the model and parameters\n",
        "model.summary(line_length = 100)"
      ],
      "metadata": {
        "colab": {
          "base_uri": "https://localhost:8080/"
        },
        "id": "NlxzSJfjyS9j",
        "outputId": "5c010beb-22a7-435c-d4b2-63d16f4a5a02"
      },
      "execution_count": null,
      "outputs": [
        {
          "output_type": "stream",
          "name": "stdout",
          "text": [
            "Model: \"sequential\"\n",
            "____________________________________________________________________________________________________\n",
            " Layer (type)                                Output Shape                            Param #        \n",
            "====================================================================================================\n",
            " conv2d (Conv2D)                             (None, 24, 24, 50)                      1300           \n",
            "                                                                                                    \n",
            " max_pooling2d (MaxPooling2D)                (None, 12, 12, 50)                      0              \n",
            "                                                                                                    \n",
            " conv2d_1 (Conv2D)                           (None, 10, 10, 50)                      22550          \n",
            "                                                                                                    \n",
            " max_pooling2d_1 (MaxPooling2D)              (None, 5, 5, 50)                        0              \n",
            "                                                                                                    \n",
            " flatten (Flatten)                           (None, 1250)                            0              \n",
            "                                                                                                    \n",
            " dense (Dense)                               (None, 10)                              12510          \n",
            "                                                                                                    \n",
            "====================================================================================================\n",
            "Total params: 36,360\n",
            "Trainable params: 36,360\n",
            "Non-trainable params: 0\n",
            "____________________________________________________________________________________________________\n"
          ]
        }
      ]
    },
    {
      "cell_type": "code",
      "source": [
        "# Defining the loss function\n",
        "\n",
        "# In general, our model needs to output probabilities of each class, \n",
        "# which can be achieved with a softmax activation in the last dense layer\n",
        "\n",
        "# However, when using the softmax activation, the loss can rarely be unstable\n",
        "\n",
        "# Thus, instead of incorporating the softmax into the model itself,\n",
        "# we use a loss calculation that automatically corrects for the missing softmax\n",
        "\n",
        "# That is the reason for 'from_logits=True'\n",
        "loss_fn = tf.keras.losses.SparseCategoricalCrossentropy(from_logits=True)"
      ],
      "metadata": {
        "id": "fuYYBpfxyS0q"
      },
      "execution_count": null,
      "outputs": []
    },
    {
      "cell_type": "code",
      "source": [
        "# Compiling the model with Adam optimizer and the cathegorical crossentropy as a loss function\n",
        "model.compile(optimizer='adam', loss=loss_fn, metrics=['accuracy'])"
      ],
      "metadata": {
        "id": "XXS_NMdE7LqI"
      },
      "execution_count": null,
      "outputs": []
    },
    {
      "cell_type": "code",
      "source": [
        "# Defining early stopping to prevent overfitting\n",
        "early_stopping = tf.keras.callbacks.EarlyStopping(\n",
        "    monitor = 'val_loss',\n",
        "    mode = 'auto',    \n",
        "    min_delta = 0,\n",
        "    patience = 2,\n",
        "    verbose = 0, \n",
        "    restore_best_weights = True\n",
        ")\n",
        "\n",
        "# Alternate early_stopping\n",
        "# tf.keras.callbacks.EarlyStopping(\n",
        "#     monitor='val_loss',\n",
        "#     min_delta=0,\n",
        "#     patience=0,\n",
        "#     verbose=0,\n",
        "#     mode='auto',\n",
        "#     baseline=None,\n",
        "#     restore_best_weights=False,\n",
        "#     start_from_epoch=0\n",
        "# )"
      ],
      "metadata": {
        "id": "-TP043rY22aR"
      },
      "execution_count": null,
      "outputs": []
    },
    {
      "cell_type": "code",
      "source": [
        "# Train the network\n",
        "model.fit(\n",
        "    train_data, \n",
        "    epochs = NUM_EPOCHS, \n",
        "    callbacks = [early_stopping], \n",
        "    validation_data = validation_data,\n",
        "    verbose = 2\n",
        ")"
      ],
      "metadata": {
        "colab": {
          "base_uri": "https://localhost:8080/"
        },
        "id": "eGA833zX22Wx",
        "outputId": "f2ee5456-8d5f-4d67-ee65-a0d65fdf5db4"
      },
      "execution_count": null,
      "outputs": [
        {
          "output_type": "stream",
          "name": "stdout",
          "text": [
            "Epoch 1/50\n",
            "1080/1080 - 18s - loss: 0.1755 - accuracy: 0.9485 - val_loss: 0.0555 - val_accuracy: 0.9828 - 18s/epoch - 16ms/step\n",
            "Epoch 2/50\n",
            "1080/1080 - 6s - loss: 0.0511 - accuracy: 0.9839 - val_loss: 0.0307 - val_accuracy: 0.9898 - 6s/epoch - 6ms/step\n",
            "Epoch 3/50\n",
            "1080/1080 - 6s - loss: 0.0388 - accuracy: 0.9879 - val_loss: 0.0315 - val_accuracy: 0.9920 - 6s/epoch - 6ms/step\n",
            "Epoch 4/50\n",
            "1080/1080 - 6s - loss: 0.0295 - accuracy: 0.9907 - val_loss: 0.0253 - val_accuracy: 0.9928 - 6s/epoch - 6ms/step\n",
            "Epoch 5/50\n",
            "1080/1080 - 6s - loss: 0.0259 - accuracy: 0.9920 - val_loss: 0.0150 - val_accuracy: 0.9963 - 6s/epoch - 6ms/step\n",
            "Epoch 6/50\n",
            "1080/1080 - 9s - loss: 0.0211 - accuracy: 0.9933 - val_loss: 0.0134 - val_accuracy: 0.9957 - 9s/epoch - 8ms/step\n",
            "Epoch 7/50\n",
            "1080/1080 - 6s - loss: 0.0182 - accuracy: 0.9943 - val_loss: 0.0103 - val_accuracy: 0.9967 - 6s/epoch - 6ms/step\n",
            "Epoch 8/50\n",
            "1080/1080 - 6s - loss: 0.0148 - accuracy: 0.9954 - val_loss: 0.0167 - val_accuracy: 0.9952 - 6s/epoch - 6ms/step\n",
            "Epoch 9/50\n",
            "1080/1080 - 6s - loss: 0.0124 - accuracy: 0.9960 - val_loss: 0.0070 - val_accuracy: 0.9968 - 6s/epoch - 6ms/step\n",
            "Epoch 10/50\n",
            "1080/1080 - 6s - loss: 0.0102 - accuracy: 0.9969 - val_loss: 0.0065 - val_accuracy: 0.9983 - 6s/epoch - 6ms/step\n",
            "Epoch 11/50\n",
            "1080/1080 - 9s - loss: 0.0099 - accuracy: 0.9970 - val_loss: 0.0064 - val_accuracy: 0.9983 - 9s/epoch - 8ms/step\n",
            "Epoch 12/50\n",
            "1080/1080 - 7s - loss: 0.0084 - accuracy: 0.9975 - val_loss: 0.0073 - val_accuracy: 0.9972 - 7s/epoch - 7ms/step\n",
            "Epoch 13/50\n",
            "1080/1080 - 6s - loss: 0.0074 - accuracy: 0.9975 - val_loss: 0.0075 - val_accuracy: 0.9980 - 6s/epoch - 6ms/step\n"
          ]
        },
        {
          "output_type": "execute_result",
          "data": {
            "text/plain": [
              "<keras.callbacks.History at 0x7f266052cf50>"
            ]
          },
          "metadata": {},
          "execution_count": 28
        }
      ]
    },
    {
      "cell_type": "markdown",
      "source": [
        "Test Model"
      ],
      "metadata": {
        "id": "O_bFPdyu9tFa"
      }
    },
    {
      "cell_type": "code",
      "source": [
        "# Testing our model\n",
        "test_loss, test_accuracy = model.evaluate(test_data)"
      ],
      "metadata": {
        "colab": {
          "base_uri": "https://localhost:8080/"
        },
        "id": "RCp_D7V89ulc",
        "outputId": "f4f2a98b-2d44-4717-8e16-ecee907a2c43"
      },
      "execution_count": null,
      "outputs": [
        {
          "output_type": "stream",
          "name": "stdout",
          "text": [
            "1/1 [==============================] - 2s 2s/step - loss: 0.0321 - accuracy: 0.9910\n"
          ]
        }
      ]
    },
    {
      "cell_type": "code",
      "source": [
        "# Printing the test results\n",
        "print('Test loss: {0:.4f}. Test accuracy: {1:.2f}%'.format(test_loss, test_accuracy*100.))"
      ],
      "metadata": {
        "colab": {
          "base_uri": "https://localhost:8080/"
        },
        "id": "d5br1s6N90PQ",
        "outputId": "73c6a5ec-f440-42a0-917b-8cafec3e3d84"
      },
      "execution_count": null,
      "outputs": [
        {
          "output_type": "stream",
          "name": "stdout",
          "text": [
            "Test loss: 0.0321. Test accuracy: 99.10%\n"
          ]
        }
      ]
    },
    {
      "cell_type": "markdown",
      "source": [
        "**Plot Image and Result**"
      ],
      "metadata": {
        "id": "iOrgUrKw95pf"
      }
    },
    {
      "cell_type": "code",
      "source": [
        "import matplotlib.pyplot as plt\n",
        "import numpy as np"
      ],
      "metadata": {
        "id": "wig40iih997K"
      },
      "execution_count": null,
      "outputs": []
    },
    {
      "cell_type": "code",
      "source": [
        "# Split the test_data into 2 arrays, containing the images and the corresponding labels\n",
        "for images, labels in test_data.take(1):\n",
        "    images_test = images.numpy()\n",
        "    labels_test = labels.numpy()\n",
        "\n",
        "# Reshape the images into 28x28 form, suitable for matplotlib (original dimensions: 28x28x1)\n",
        "images_plot = np.reshape(images_test, (10000,28,28))"
      ],
      "metadata": {
        "id": "S76TkoXe-CWy"
      },
      "execution_count": null,
      "outputs": []
    },
    {
      "cell_type": "code",
      "source": [
        "# The image to be displayed and tested\n",
        "i = 9\n",
        "\n",
        "\n",
        "# Plot the image\n",
        "plt.figure(figsize=(2, 2))\n",
        "plt.axis('off')\n",
        "plt.imshow(images_plot[i-1], cmap=\"gray\", aspect='auto')\n",
        "plt.show()\n",
        "\n",
        "# Print the correct label for the image\n",
        "print(\"Label: {}\".format(labels_test[i-1]))"
      ],
      "metadata": {
        "colab": {
          "base_uri": "https://localhost:8080/",
          "height": 158
        },
        "id": "1kDi75My-CIk",
        "outputId": "6f5e4499-2277-4dca-890e-61d8799f2dfd"
      },
      "execution_count": null,
      "outputs": [
        {
          "output_type": "display_data",
          "data": {
            "text/plain": [
              "<Figure size 144x144 with 1 Axes>"
            ],
            "image/png": "[encoded data removed]"
          },
          "metadata": {
            "needs_background": "light"
          }
        },
        {
          "output_type": "stream",
          "name": "stdout",
          "text": [
            "Label: 3\n"
          ]
        }
      ]
    },
    {
      "cell_type": "code",
      "source": [
        "# Obtain the model's predictions (logits)\n",
        "predictions = model.predict(images_test[i-1:i])\n",
        "\n",
        "# Convert those predictions into probabilities (recall that we incorporated the softmaxt activation into the loss function)\n",
        "probabilities = tf.nn.softmax(predictions).numpy()\n",
        "# Convert the probabilities into percentages\n",
        "probabilities = probabilities*100\n",
        "\n",
        "\n",
        "# Create a bar chart to plot the probabilities for each class\n",
        "plt.figure(figsize=(12,5))\n",
        "plt.bar(x=[1,2,3,4,5,6,7,8,9,10], height=probabilities[0], tick_label=[\"0\",\"1\",\"2\",\"3\",\"4\",\"5\",\"6\",\"7\",\"8\",\"9\"])"
      ],
      "metadata": {
        "colab": {
          "base_uri": "https://localhost:8080/",
          "height": 356
        },
        "id": "g3QtAEaO-OE8",
        "outputId": "2bc03b84-bea7-4fbb-81f2-ad1c0035e630"
      },
      "execution_count": null,
      "outputs": [
        {
          "output_type": "stream",
          "name": "stdout",
          "text": [
            "1/1 [==============================] - 0s 44ms/step\n"
          ]
        },
        {
          "output_type": "execute_result",
          "data": {
            "text/plain": [
              "<BarContainer object of 10 artists>"
            ]
          },
          "metadata": {},
          "execution_count": 49
        },
        {
          "output_type": "display_data",
          "data": {
            "text/plain": [
              "<Figure size 864x360 with 1 Axes>"
            ],
            "image/png": "[encoded data removed]"
          },
          "metadata": {
            "needs_background": "light"
          }
        }
      ]
    },
    {
      "cell_type": "code",
      "source": [],
      "metadata": {
        "id": "rrYLwVIn-N6t"
      },
      "execution_count": null,
      "outputs": []
    }
  ]
}